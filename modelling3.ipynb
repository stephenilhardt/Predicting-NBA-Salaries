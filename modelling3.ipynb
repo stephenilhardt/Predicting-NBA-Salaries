{
 "cells": [
  {
   "cell_type": "code",
   "execution_count": 1,
   "metadata": {},
   "outputs": [],
   "source": [
    "import pandas as pd\n",
    "import numpy as np\n",
    "import statsmodels.api as sm\n",
    "import statsmodels.formula.api as smf\n",
    "import patsy\n",
    "import pickle\n",
    "import re\n",
    "\n",
    "import seaborn as sns\n",
    "import matplotlib.pyplot as plt\n",
    "from sklearn.linear_model import LinearRegression, Ridge\n",
    "from sklearn.linear_model import RidgeCV, Lasso, LassoCV\n",
    "from sklearn.model_selection import train_test_split, cross_val_score\n",
    "from sklearn.preprocessing import StandardScaler, PolynomialFeatures\n",
    "from sklearn.preprocessing import PolynomialFeatures\n",
    "from sklearn.pipeline import make_pipeline\n",
    "import scipy.stats as stats\n",
    "from sklearn.model_selection import KFold\n",
    "%matplotlib inline"
   ]
  },
  {
   "cell_type": "code",
   "execution_count": 2,
   "metadata": {},
   "outputs": [],
   "source": [
    "with open('rookies3.pickle', 'rb') as to_read:\n",
    "    df = pickle.load(to_read)"
   ]
  },
  {
   "cell_type": "code",
   "execution_count": 3,
   "metadata": {},
   "outputs": [
    {
     "data": {
      "text/html": [
       "<div>\n",
       "<style scoped>\n",
       "    .dataframe tbody tr th:only-of-type {\n",
       "        vertical-align: middle;\n",
       "    }\n",
       "\n",
       "    .dataframe tbody tr th {\n",
       "        vertical-align: top;\n",
       "    }\n",
       "\n",
       "    .dataframe thead th {\n",
       "        text-align: right;\n",
       "    }\n",
       "</style>\n",
       "<table border=\"1\" class=\"dataframe\">\n",
       "  <thead>\n",
       "    <tr style=\"text-align: right;\">\n",
       "      <th></th>\n",
       "      <th>PLAYER</th>\n",
       "      <th>FIRST_YEAR</th>\n",
       "      <th>AST</th>\n",
       "      <th>BLK</th>\n",
       "      <th>DRB</th>\n",
       "      <th>EFG_PCT</th>\n",
       "      <th>FG2_PCT</th>\n",
       "      <th>FG2</th>\n",
       "      <th>FG2A</th>\n",
       "      <th>FG3_PCT</th>\n",
       "      <th>...</th>\n",
       "      <th>BPM</th>\n",
       "      <th>DRB_PCT</th>\n",
       "      <th>STL_PCT</th>\n",
       "      <th>TOV_PCT</th>\n",
       "      <th>TS_PCT</th>\n",
       "      <th>USG_PCT</th>\n",
       "      <th>DBPM</th>\n",
       "      <th>FTA_PER_FGA_PCT</th>\n",
       "      <th>AST_PCT</th>\n",
       "      <th>ORB_PCT</th>\n",
       "    </tr>\n",
       "  </thead>\n",
       "  <tbody>\n",
       "    <tr>\n",
       "      <th>0</th>\n",
       "      <td>Aaron Brooks</td>\n",
       "      <td>2008</td>\n",
       "      <td>1.7</td>\n",
       "      <td>0.1</td>\n",
       "      <td>0.8</td>\n",
       "      <td>0.493</td>\n",
       "      <td>0.491</td>\n",
       "      <td>1.1</td>\n",
       "      <td>2.3</td>\n",
       "      <td>0.330</td>\n",
       "      <td>...</td>\n",
       "      <td>-1.8</td>\n",
       "      <td>7.9</td>\n",
       "      <td>1.1</td>\n",
       "      <td>15.1</td>\n",
       "      <td>0.535</td>\n",
       "      <td>21.8</td>\n",
       "      <td>-1.8</td>\n",
       "      <td>0.218</td>\n",
       "      <td>23.5</td>\n",
       "      <td>2.5</td>\n",
       "    </tr>\n",
       "    <tr>\n",
       "      <th>1</th>\n",
       "      <td>Aaron Gordon</td>\n",
       "      <td>2015</td>\n",
       "      <td>0.7</td>\n",
       "      <td>0.5</td>\n",
       "      <td>2.6</td>\n",
       "      <td>0.478</td>\n",
       "      <td>0.500</td>\n",
       "      <td>1.7</td>\n",
       "      <td>3.4</td>\n",
       "      <td>0.271</td>\n",
       "      <td>...</td>\n",
       "      <td>-2.8</td>\n",
       "      <td>17.8</td>\n",
       "      <td>1.3</td>\n",
       "      <td>13.9</td>\n",
       "      <td>0.517</td>\n",
       "      <td>15.5</td>\n",
       "      <td>0.0</td>\n",
       "      <td>0.293</td>\n",
       "      <td>6.3</td>\n",
       "      <td>6.4</td>\n",
       "    </tr>\n",
       "    <tr>\n",
       "      <th>2</th>\n",
       "      <td>Aaron Gray</td>\n",
       "      <td>2008</td>\n",
       "      <td>0.7</td>\n",
       "      <td>0.3</td>\n",
       "      <td>1.6</td>\n",
       "      <td>0.505</td>\n",
       "      <td>0.507</td>\n",
       "      <td>1.7</td>\n",
       "      <td>3.3</td>\n",
       "      <td>0.000</td>\n",
       "      <td>...</td>\n",
       "      <td>-2.0</td>\n",
       "      <td>18.7</td>\n",
       "      <td>1.8</td>\n",
       "      <td>18.7</td>\n",
       "      <td>0.529</td>\n",
       "      <td>22.0</td>\n",
       "      <td>0.4</td>\n",
       "      <td>0.485</td>\n",
       "      <td>11.4</td>\n",
       "      <td>12.5</td>\n",
       "    </tr>\n",
       "    <tr>\n",
       "      <th>3</th>\n",
       "      <td>Acie Law</td>\n",
       "      <td>2008</td>\n",
       "      <td>2.0</td>\n",
       "      <td>0.0</td>\n",
       "      <td>0.8</td>\n",
       "      <td>0.416</td>\n",
       "      <td>0.433</td>\n",
       "      <td>1.6</td>\n",
       "      <td>3.6</td>\n",
       "      <td>0.206</td>\n",
       "      <td>...</td>\n",
       "      <td>-6.7</td>\n",
       "      <td>6.0</td>\n",
       "      <td>1.8</td>\n",
       "      <td>17.8</td>\n",
       "      <td>0.455</td>\n",
       "      <td>16.5</td>\n",
       "      <td>-2.6</td>\n",
       "      <td>0.203</td>\n",
       "      <td>20.4</td>\n",
       "      <td>1.6</td>\n",
       "    </tr>\n",
       "    <tr>\n",
       "      <th>4</th>\n",
       "      <td>Al Horford</td>\n",
       "      <td>2008</td>\n",
       "      <td>1.5</td>\n",
       "      <td>0.9</td>\n",
       "      <td>6.6</td>\n",
       "      <td>0.499</td>\n",
       "      <td>0.502</td>\n",
       "      <td>4.1</td>\n",
       "      <td>8.2</td>\n",
       "      <td>0.000</td>\n",
       "      <td>...</td>\n",
       "      <td>-0.2</td>\n",
       "      <td>24.5</td>\n",
       "      <td>1.2</td>\n",
       "      <td>15.3</td>\n",
       "      <td>0.539</td>\n",
       "      <td>16.0</td>\n",
       "      <td>1.1</td>\n",
       "      <td>0.317</td>\n",
       "      <td>7.9</td>\n",
       "      <td>11.4</td>\n",
       "    </tr>\n",
       "  </tbody>\n",
       "</table>\n",
       "<p>5 rows × 57 columns</p>\n",
       "</div>"
      ],
      "text/plain": [
       "         PLAYER  FIRST_YEAR  AST  BLK  DRB  EFG_PCT  FG2_PCT  FG2  FG2A  \\\n",
       "0  Aaron Brooks        2008  1.7  0.1  0.8    0.493    0.491  1.1   2.3   \n",
       "1  Aaron Gordon        2015  0.7  0.5  2.6    0.478    0.500  1.7   3.4   \n",
       "2    Aaron Gray        2008  0.7  0.3  1.6    0.505    0.507  1.7   3.3   \n",
       "3      Acie Law        2008  2.0  0.0  0.8    0.416    0.433  1.6   3.6   \n",
       "4    Al Horford        2008  1.5  0.9  6.6    0.499    0.502  4.1   8.2   \n",
       "\n",
       "   FG3_PCT   ...     BPM  DRB_PCT  STL_PCT  TOV_PCT  TS_PCT  USG_PCT  DBPM  \\\n",
       "0    0.330   ...    -1.8      7.9      1.1     15.1   0.535     21.8  -1.8   \n",
       "1    0.271   ...    -2.8     17.8      1.3     13.9   0.517     15.5   0.0   \n",
       "2    0.000   ...    -2.0     18.7      1.8     18.7   0.529     22.0   0.4   \n",
       "3    0.206   ...    -6.7      6.0      1.8     17.8   0.455     16.5  -2.6   \n",
       "4    0.000   ...    -0.2     24.5      1.2     15.3   0.539     16.0   1.1   \n",
       "\n",
       "   FTA_PER_FGA_PCT  AST_PCT  ORB_PCT  \n",
       "0            0.218     23.5      2.5  \n",
       "1            0.293      6.3      6.4  \n",
       "2            0.485     11.4     12.5  \n",
       "3            0.203     20.4      1.6  \n",
       "4            0.317      7.9     11.4  \n",
       "\n",
       "[5 rows x 57 columns]"
      ]
     },
     "execution_count": 3,
     "metadata": {},
     "output_type": "execute_result"
    }
   ],
   "source": [
    "df.head()"
   ]
  },
  {
   "cell_type": "code",
   "execution_count": 4,
   "metadata": {},
   "outputs": [
    {
     "data": {
      "text/plain": [
       "Index(['PLAYER', 'FIRST_YEAR', 'AST', 'BLK', 'DRB', 'EFG_PCT', 'FG2_PCT',\n",
       "       'FG2', 'FG2A', 'FG3_PCT', 'FG3', 'FG3A', 'FG_PCT', 'FG', 'FGA',\n",
       "       'FT_PCT', 'FT', 'FTA', 'MP', 'ORB', 'PF', 'PTS', 'STL', 'TOV', 'TRB',\n",
       "       'DRAFT_YEAR', 'ROUND', 'PICK_OVERALL', 'DRAFT_TEAM', 'AGE', 'POS',\n",
       "       'BIRTH_COUNTRY', 'COLLEGE', 'FIFTH_YEAR', 'SALARY', 'G', 'GS', 'DWS',\n",
       "       'WS', 'OWS', 'PER', 'BLK_PCT', 'VORP', 'TRB_PCT', 'FG3A_PER_FGA_PCT',\n",
       "       'OBPM', 'WS_PER_48', 'BPM', 'DRB_PCT', 'STL_PCT', 'TOV_PCT', 'TS_PCT',\n",
       "       'USG_PCT', 'DBPM', 'FTA_PER_FGA_PCT', 'AST_PCT', 'ORB_PCT'],\n",
       "      dtype='object')"
      ]
     },
     "execution_count": 4,
     "metadata": {},
     "output_type": "execute_result"
    }
   ],
   "source": [
    "df.columns"
   ]
  },
  {
   "cell_type": "code",
   "execution_count": 6,
   "metadata": {},
   "outputs": [],
   "source": [
    "num = df[['SALARY','AST','BLK','DRB','EFG_PCT','FG2_PCT','FG2','FG2A','FG3_PCT','FG3','FG3A','FG_PCT','FG','FGA',\n",
    "         'FT_PCT','FT','FTA','MP','ORB','PF','PTS','STL','TOV','TRB','PICK_OVERALL','G','GS','DWS','WS','OWS','PER',\n",
    "         'BLK_PCT','VORP','TRB_PCT','FG3A_PER_FGA_PCT','OBPM','WS_PER_48','BPM','DRB_PCT','STL_PCT','TOV_PCT',\n",
    "         'TS_PCT','USG_PCT','DBPM','FTA_PER_FGA_PCT','AST_PCT','ORB_PCT']]"
   ]
  },
  {
   "cell_type": "code",
   "execution_count": 8,
   "metadata": {},
   "outputs": [
    {
     "data": {
      "text/plain": [
       "0.37517792616144907"
      ]
     },
     "execution_count": 8,
     "metadata": {},
     "output_type": "execute_result"
    }
   ],
   "source": [
    "X = num.iloc[:,1:]\n",
    "y = num.iloc[:,0]\n",
    "\n",
    "X_train, X_test, y_train, y_test = train_test_split(X,y, test_size=0.2, random_state=42)\n",
    "\n",
    "lm = LinearRegression()\n",
    "\n",
    "lm.fit(X_train, y_train)\n",
    "lm.score(X_train, y_train)"
   ]
  },
  {
   "cell_type": "code",
   "execution_count": 13,
   "metadata": {},
   "outputs": [
    {
     "data": {
      "text/plain": [
       "0.19111882964937366"
      ]
     },
     "execution_count": 13,
     "metadata": {},
     "output_type": "execute_result"
    }
   ],
   "source": [
    "five = num[['SALARY','PTS','AST','TRB','BLK','STL']]\n",
    "\n",
    "X = five.iloc[:,1:]\n",
    "y = five.iloc[:,0]\n",
    "\n",
    "X_train, X_test, y_train, y_test = train_test_split(X,y, test_size=0.2, random_state = 42)\n",
    "\n",
    "lm = LinearRegression()\n",
    "\n",
    "lm.fit(X_train, y_train)\n",
    "lm.score(X_train, y_train)"
   ]
  },
  {
   "cell_type": "code",
   "execution_count": 16,
   "metadata": {},
   "outputs": [
    {
     "data": {
      "text/plain": [
       "Index(['PLAYER', 'FIRST_YEAR', 'AST', 'BLK', 'DRB', 'EFG_PCT', 'FG2_PCT',\n",
       "       'FG2', 'FG2A', 'FG3_PCT', 'FG3', 'FG3A', 'FG_PCT', 'FG', 'FGA',\n",
       "       'FT_PCT', 'FT', 'FTA', 'MP', 'ORB', 'PF', 'PTS', 'STL', 'TOV', 'TRB',\n",
       "       'DRAFT_YEAR', 'ROUND', 'PICK_OVERALL', 'DRAFT_TEAM', 'AGE', 'POS',\n",
       "       'BIRTH_COUNTRY', 'COLLEGE', 'FIFTH_YEAR', 'SALARY', 'G', 'GS', 'DWS',\n",
       "       'WS', 'OWS', 'PER', 'BLK_PCT', 'VORP', 'TRB_PCT', 'FG3A_PER_FGA_PCT',\n",
       "       'OBPM', 'WS_PER_48', 'BPM', 'DRB_PCT', 'STL_PCT', 'TOV_PCT', 'TS_PCT',\n",
       "       'USG_PCT', 'DBPM', 'FTA_PER_FGA_PCT', 'AST_PCT', 'ORB_PCT'],\n",
       "      dtype='object')"
      ]
     },
     "execution_count": 16,
     "metadata": {},
     "output_type": "execute_result"
    }
   ],
   "source": [
    "df.columns"
   ]
  },
  {
   "cell_type": "code",
   "execution_count": 17,
   "metadata": {},
   "outputs": [],
   "source": [
    "gamestats = num[['SALARY','G','GS','MP','FG','FGA','FG_PCT','FG3','FG3A','FG3_PCT','FG2','FG2A','FG2_PCT','EFG_PCT',\n",
    "                'FT','FTA','FT_PCT','ORB','DRB','TRB','AST','STL','BLK','TOV','PF','PTS']]"
   ]
  },
  {
   "cell_type": "code",
   "execution_count": 20,
   "metadata": {},
   "outputs": [
    {
     "data": {
      "text/plain": [
       "0.2699683653195747"
      ]
     },
     "execution_count": 20,
     "metadata": {},
     "output_type": "execute_result"
    }
   ],
   "source": [
    "X = gamestats.iloc[:,1:]\n",
    "y = gamestats.iloc[:,0]\n",
    "\n",
    "X_train, X_test, y_train, y_test = train_test_split(X,y,test_size=0.2, random_state=42)\n",
    "\n",
    "lm = LinearRegression()\n",
    "\n",
    "lm.fit(X_train, y_train)\n",
    "lm.score(X_train, y_train)"
   ]
  },
  {
   "cell_type": "code",
   "execution_count": 27,
   "metadata": {},
   "outputs": [
    {
     "name": "stderr",
     "output_type": "stream",
     "text": [
      "/Users/Stephen/anaconda3/lib/python3.7/site-packages/sklearn/linear_model/coordinate_descent.py:491: ConvergenceWarning: Objective did not converge. You might want to increase the number of iterations. Fitting data with very small alpha may cause precision problems.\n",
      "  ConvergenceWarning)\n"
     ]
    },
    {
     "data": {
      "text/plain": [
       "-0.004741719195449301"
      ]
     },
     "execution_count": 27,
     "metadata": {},
     "output_type": "execute_result"
    }
   ],
   "source": [
    "lasso = Lasso(alpha=1000)\n",
    "\n",
    "scaler = StandardScaler()\n",
    "\n",
    "X_train_sc = scaler.fit_transform(X_train)\n",
    "X_test_sc = scaler.transform(X_test)\n",
    "\n",
    "lasso.fit(X_train_sc, y_train)\n",
    "lasso.score(X_test_sc, y_test)"
   ]
  },
  {
   "cell_type": "code",
   "execution_count": null,
   "metadata": {},
   "outputs": [],
   "source": []
  }
 ],
 "metadata": {
  "kernelspec": {
   "display_name": "Python 3",
   "language": "python",
   "name": "python3"
  },
  "language_info": {
   "codemirror_mode": {
    "name": "ipython",
    "version": 3
   },
   "file_extension": ".py",
   "mimetype": "text/x-python",
   "name": "python",
   "nbconvert_exporter": "python",
   "pygments_lexer": "ipython3",
   "version": "3.7.2"
  },
  "toc": {
   "base_numbering": 1,
   "nav_menu": {},
   "number_sections": true,
   "sideBar": true,
   "skip_h1_title": false,
   "title_cell": "Table of Contents",
   "title_sidebar": "Contents",
   "toc_cell": false,
   "toc_position": {},
   "toc_section_display": true,
   "toc_window_display": false
  },
  "varInspector": {
   "cols": {
    "lenName": 16,
    "lenType": 16,
    "lenVar": 40
   },
   "kernels_config": {
    "python": {
     "delete_cmd_postfix": "",
     "delete_cmd_prefix": "del ",
     "library": "var_list.py",
     "varRefreshCmd": "print(var_dic_list())"
    },
    "r": {
     "delete_cmd_postfix": ") ",
     "delete_cmd_prefix": "rm(",
     "library": "var_list.r",
     "varRefreshCmd": "cat(var_dic_list()) "
    }
   },
   "types_to_exclude": [
    "module",
    "function",
    "builtin_function_or_method",
    "instance",
    "_Feature"
   ],
   "window_display": false
  }
 },
 "nbformat": 4,
 "nbformat_minor": 2
}
